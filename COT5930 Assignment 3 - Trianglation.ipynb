{
 "metadata": {
  "name": "",
  "signature": "sha256:96237cce29ad915e45e09d17b2041675719026f7eff0e00296e1295054ebff1d"
 },
 "nbformat": 3,
 "nbformat_minor": 0,
 "worksheets": [
  {
   "cells": [
    {
     "cell_type": "code",
     "collapsed": false,
     "input": [
      "\n",
      "\"\"\"\n",
      "Assignment 3 - Due 4/3/15\n",
      "COT5930  Dr. Shankar\n",
      "by Huajin Ariel Qu &  Charles Weinthal\n",
      "\n",
      "\n",
      "Triangulation algorithm for distance esimation - strategy using four Rasp Pis and a server.\n",
      "\n",
      "\n",
      "\n",
      "\"\"\"\n",
      "\n",
      "\n",
      "\n",
      "from Tkinter import *\n",
      "#from converters import *\n",
      "from turtle import *\n",
      "from Tkinter import Tk, Canvas, Frame, BOTH\n",
      "\n",
      "from random import  seed, randint\n",
      "import math\n",
      "\n",
      "\n",
      "\n",
      "\n",
      "\n",
      "\n",
      "\n",
      "\n",
      "\n",
      "def locator(r1,a1,r2,a2,r3,a3,r4,a4):\n",
      "# camera location defines\n",
      "    cax = -1\n",
      "    cay = -1\n",
      "    \n",
      "    cbx = -1\n",
      "    cby = 9\n",
      "    \n",
      "    ccx = 9\n",
      "    ccy = 9\n",
      "    \n",
      "    cdx = 9\n",
      "    cdy = -1\n",
      "    on = 1\n",
      "\n",
      "    anglec = 0 +45\n",
      "\n",
      "    print \"r1= %.2f  a1= %.2f  r2= %.2f  a2= %.2f  r3= %.2f  a3= %.2f  r4= %.2f  a4= %.2f  \"  % (r1, a1, r2, a2, r3, a3, r4, a4)\n",
      "    \n",
      "    a1 = math.radians(anglec+a1)\n",
      "    x1= on* cax + (r1 * math.sin(a1)) # ycomponent\n",
      "    y1= on* cay + (r1 * math.cos(a1))  #y component\n",
      "#    x1=  (r1 * math.sin(a1)) # ycomponent\n",
      "#    y1=  (r1 * math.cos(a1))  #y component\n",
      "   \n",
      "    a2 = math.radians(anglec+a2)\n",
      "    x2= on* cbx + (r2 * math.sin(a2)) # ycomponent\n",
      "    y2= on* cby - (r2 * math.cos(a2))  #y component\n",
      "    a3 = math.radians(anglec+a3)\n",
      "    x3= on* ccx - (r3 * math.sin(a3)) # ycomponent\n",
      "    y3= on* ccy - (r3 * math.cos(a3))  #y component\n",
      "    a4 = math.radians(anglec+a4)\n",
      "    x4= on* cdx - (r4 * math.sin(a4)) # ycomponent\n",
      "    y4= on* cdy + (r4 * math.cos(a4))  #y component\n",
      "    print \"  x1= %.2f  y1= %.2f x2= %.2f  y2= %.2f x3= %.2f  y3= %.2f   x4= %.2f  y4= %.2f\"  % (x1, y1, x2, y2, x3,y3, x4,y4)\n",
      "\n",
      "\n",
      "    #===================================\n",
      "    \n",
      "locator(7.2111025509,11.309932474,8.4852813742,0,7.2111025509,-11.309932474,5.6568542495,0)  #5,3\n",
      "\n",
      "locator(8.94427191,-18.4349488229,4.472135955,18.4349488229,6.3245553203,26.5650511771,10,-8.1301023542)  #3,7\n",
      "\n"
     ],
     "language": "python",
     "metadata": {},
     "outputs": [
      {
       "output_type": "stream",
       "stream": "stdout",
       "text": [
        "r1= 7.21  a1= 11.31  r2= 8.49  a2= 0.00  r3= 7.21  a3= -11.31  r4= 5.66  a4= 0.00  \n",
        "  x1= 5.00  y1= 3.00 x2= 5.00  y2= 3.00 x3= 5.00  y3= 3.00   x4= 5.00  y4= 3.00\n",
        "r1= 8.94  a1= -18.43  r2= 4.47  a2= 18.43  r3= 6.32  a3= 26.57  r4= 10.00  a4= -8.13  \n",
        "  x1= 3.00  y1= 7.00 x2= 3.00  y2= 7.00 x3= 3.00  y3= 7.00   x4= 3.00  y4= 7.00\n"
       ]
      }
     ],
     "prompt_number": 35
    },
    {
     "cell_type": "code",
     "collapsed": false,
     "input": [],
     "language": "python",
     "metadata": {},
     "outputs": [],
     "prompt_number": 21
    },
    {
     "cell_type": "code",
     "collapsed": false,
     "input": [],
     "language": "python",
     "metadata": {},
     "outputs": []
    }
   ],
   "metadata": {}
  }
 ]
}